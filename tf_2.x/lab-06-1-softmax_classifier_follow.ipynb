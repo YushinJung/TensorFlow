{
 "cells": [
  {
   "cell_type": "markdown",
   "id": "ultimate-helen",
   "metadata": {},
   "source": [
    "# Tensorflow making softmax classifier\n",
    "\n",
    "## imports"
   ]
  },
  {
   "cell_type": "code",
   "execution_count": 1,
   "id": "democratic-detector",
   "metadata": {},
   "outputs": [
    {
     "name": "stdout",
     "output_type": "stream",
     "text": [
      "2.3.0\n"
     ]
    }
   ],
   "source": [
    "import tensorflow as tf\n",
    "import numpy as np\n",
    "\n",
    "print(tf.__version__)\n",
    "\n",
    "tf.random.set_seed(777)  # for reproducibility"
   ]
  },
  {
   "cell_type": "markdown",
   "id": "norwegian-complaint",
   "metadata": {},
   "source": [
    "## datas"
   ]
  },
  {
   "cell_type": "code",
   "execution_count": 13,
   "id": "dietary-leisure",
   "metadata": {},
   "outputs": [
    {
     "name": "stdout",
     "output_type": "stream",
     "text": [
      "X shape - (8, 4)\n",
      "Y shape - (8, 3)\n"
     ]
    }
   ],
   "source": [
    "x_data = [[1, 2, 1, 1],\n",
    "          [2, 1, 3, 2],\n",
    "          [3, 1, 3, 4],\n",
    "          [4, 1, 5, 5],\n",
    "          [1, 7, 5, 5],\n",
    "          [1, 2, 5, 6],\n",
    "          [1, 6, 6, 6],\n",
    "          [1, 7, 7, 7]]\n",
    "y_data = [[0, 0, 1],\n",
    "          [0, 0, 1],\n",
    "          [0, 0, 1],\n",
    "          [0, 1, 0],\n",
    "          [0, 1, 0],\n",
    "          [0, 1, 0],\n",
    "          [1, 0, 0],\n",
    "          [1, 0, 0]]\n",
    "\n",
    "#convert into numpy and float format\n",
    "x_data = np.asarray(x_data, dtype=np.float32)\n",
    "y_data = np.asarray(y_data, dtype=np.float32)\n",
    "\n",
    "print(f'X shape - {x_data.shape}')\n",
    "print(f'Y shape - {y_data.shape}')"
   ]
  },
  {
   "cell_type": "markdown",
   "id": "dutch-necklace",
   "metadata": {},
   "source": [
    "W should be shaped as (3, 4)\n",
    "b should be shaped as (3, 1)"
   ]
  },
  {
   "cell_type": "markdown",
   "id": "massive-execution",
   "metadata": {},
   "source": [
    "## Model - hypothesis"
   ]
  },
  {
   "cell_type": "code",
   "execution_count": 14,
   "id": "promotional-checklist",
   "metadata": {},
   "outputs": [],
   "source": [
    "W = tf.Variable(tf.random.uniform((4, 3), -10, 10))\n",
    "b = tf.Variable(tf.random.uniform((1, 3), -10, 10))\n",
    "variables = [W, b]"
   ]
  },
  {
   "cell_type": "markdown",
   "id": "executed-treat",
   "metadata": {},
   "source": [
    "XW + b -> sigmoid > softmax"
   ]
  },
  {
   "cell_type": "code",
   "execution_count": 15,
   "id": "organic-reserve",
   "metadata": {},
   "outputs": [],
   "source": [
    "def hypothesis(X):\n",
    "    theta = tf.add(tf.matmul(X, W), b)        \n",
    "    normalized = theta # tf.divide(1., 1. + tf.exp(theta))\n",
    "    return tf.nn.softmax(normalized)"
   ]
  },
  {
   "cell_type": "code",
   "execution_count": 16,
   "id": "regulated-binary",
   "metadata": {},
   "outputs": [
    {
     "data": {
      "text/plain": [
       "<tf.Tensor: shape=(8, 3), dtype=float32, numpy=\n",
       "array([[9.8252660e-01, 1.2772529e-02, 4.7009205e-03],\n",
       "       [9.8319489e-01, 1.6805071e-02, 2.0518032e-10],\n",
       "       [9.2877811e-01, 7.1221910e-02, 2.4506068e-14],\n",
       "       [9.6506792e-01, 3.4932099e-02, 2.9891201e-21],\n",
       "       [3.3135342e-11, 1.0000000e+00, 9.2847209e-16],\n",
       "       [3.4521524e-16, 1.0000000e+00, 1.3064970e-22],\n",
       "       [2.6780382e-15, 1.0000000e+00, 2.2375779e-21],\n",
       "       [1.6793844e-18, 1.0000000e+00, 3.0305968e-25]], dtype=float32)>"
      ]
     },
     "execution_count": 16,
     "metadata": {},
     "output_type": "execute_result"
    }
   ],
   "source": [
    "hypothesis(x_data)"
   ]
  },
  {
   "cell_type": "markdown",
   "id": "derived-trash",
   "metadata": {},
   "source": [
    "## Loss"
   ]
  },
  {
   "cell_type": "code",
   "execution_count": 17,
   "id": "handled-palmer",
   "metadata": {},
   "outputs": [],
   "source": [
    "def loss(predicted, Y):\n",
    "    return tf.reduce_mean(-tf.reduce_sum(Y * tf.math.log(predicted), axis=1))"
   ]
  },
  {
   "cell_type": "code",
   "execution_count": 18,
   "id": "effective-forum",
   "metadata": {},
   "outputs": [
    {
     "data": {
      "text/plain": [
       "<tf.Tensor: shape=(), dtype=float32, numpy=17.10539>"
      ]
     },
     "execution_count": 18,
     "metadata": {},
     "output_type": "execute_result"
    }
   ],
   "source": [
    "loss(hypothesis(x_data), y_data)"
   ]
  },
  {
   "cell_type": "markdown",
   "id": "physical-robertson",
   "metadata": {},
   "source": [
    "## gradient"
   ]
  },
  {
   "cell_type": "code",
   "execution_count": 19,
   "id": "rural-empty",
   "metadata": {},
   "outputs": [],
   "source": [
    "def GD(X, Y):\n",
    "    with tf.GradientTape() as tape:\n",
    "        cost = loss(hypothesis(X), Y)\n",
    "        grads = tape.gradient(cost, variables)\n",
    "    return grads"
   ]
  },
  {
   "cell_type": "code",
   "execution_count": 20,
   "id": "amateur-shore",
   "metadata": {},
   "outputs": [
    {
     "data": {
      "text/plain": [
       "[<tf.Tensor: shape=(4, 3), dtype=float32, numpy=\n",
       " array([[ 0.94944024, -0.20002788, -0.7494124 ],\n",
       "        [-1.0197382 ,  1.518563  , -0.49882478],\n",
       "        [-0.18202686,  1.0564392 , -0.8744124 ],\n",
       "        [-0.188829  ,  1.0632415 , -0.87441236]], dtype=float32)>,\n",
       " <tf.Tensor: shape=(1, 3), dtype=float32, numpy=array([[ 0.23244593,  0.14196646, -0.3744124 ]], dtype=float32)>]"
      ]
     },
     "execution_count": 20,
     "metadata": {},
     "output_type": "execute_result"
    }
   ],
   "source": [
    "GD(x_data, y_data)"
   ]
  },
  {
   "cell_type": "markdown",
   "id": "similar-pencil",
   "metadata": {},
   "source": [
    "## training"
   ]
  },
  {
   "cell_type": "code",
   "execution_count": 10,
   "id": "prescription-headline",
   "metadata": {},
   "outputs": [
    {
     "name": "stdout",
     "output_type": "stream",
     "text": [
      "Requirement already satisfied: tqdm in c:\\users\\jyush\\appdata\\local\\programs\\python\\python38\\lib\\site-packages (4.58.0)\n"
     ]
    }
   ],
   "source": [
    "!pip install tqdm"
   ]
  },
  {
   "cell_type": "code",
   "execution_count": 23,
   "id": "activated-snowboard",
   "metadata": {
    "collapsed": true,
    "jupyter": {
     "outputs_hidden": true
    }
   },
   "outputs": [
    {
     "data": {
      "application/vnd.jupyter.widget-view+json": {
       "model_id": "4288231fb18149d4929161476c760497",
       "version_major": 2,
       "version_minor": 0
      },
      "text/plain": [
       "  0%|          | 0/10000 [00:00<?, ?it/s]"
      ]
     },
     "metadata": {},
     "output_type": "display_data"
    },
    {
     "name": "stdout",
     "output_type": "stream",
     "text": [
      "0\t0.9372616410255432\n",
      "100\t0.8866345882415771\n",
      "200\t0.8366848230361938\n",
      "300\t0.787514865398407\n",
      "400\t0.7392809987068176\n",
      "500\t0.692199170589447\n",
      "600\t0.6465537548065186\n",
      "700\t0.6026880145072937\n",
      "800\t0.5609884858131409\n",
      "900\t0.5218412280082703\n",
      "1000\t0.48559635877609253\n",
      "1100\t0.4525284767150879\n",
      "1200\t0.422810435295105\n",
      "1300\t0.3965117633342743\n",
      "1400\t0.37360143661499023\n",
      "1500\t0.3539518117904663\n",
      "1600\t0.3373486399650574\n",
      "1700\t0.3234988749027252\n",
      "1800\t0.3120531141757965\n",
      "1900\t0.30263543128967285\n",
      "2000\t0.29487529397010803\n",
      "2100\t0.2884381115436554\n",
      "2200\t0.28303763270378113\n",
      "2300\t0.2784404754638672\n",
      "2400\t0.2744651734828949\n",
      "2500\t0.27097001671791077\n",
      "2600\t0.267850399017334\n",
      "2700\t0.26502561569213867\n",
      "2800\t0.26243528723716736\n",
      "2900\t0.2600344121456146\n",
      "3000\t0.25778836011886597\n",
      "3100\t0.25567036867141724\n",
      "3200\t0.25365978479385376\n",
      "3300\t0.25174060463905334\n",
      "3400\t0.24990081787109375\n",
      "3500\t0.24812906980514526\n",
      "3600\t0.24641790986061096\n",
      "3700\t0.24476003646850586\n",
      "3800\t0.24315021932125092\n",
      "3900\t0.2415831983089447\n",
      "4000\t0.24005620181560516\n",
      "4100\t0.23856514692306519\n",
      "4200\t0.23710744082927704\n",
      "4300\t0.235680490732193\n",
      "4400\t0.23428168892860413\n",
      "4500\t0.2329103946685791\n",
      "4600\t0.23156382143497467\n",
      "4700\t0.23024100065231323\n",
      "4800\t0.22894103825092316\n",
      "4900\t0.22766155004501343\n",
      "5000\t0.22640305757522583\n",
      "5100\t0.22516345977783203\n",
      "5200\t0.2239433228969574\n",
      "5300\t0.22273984551429749\n",
      "5400\t0.221553772687912\n",
      "5500\t0.22038446366786957\n",
      "5600\t0.21923039853572845\n",
      "5700\t0.21809175610542297\n",
      "5800\t0.2169678807258606\n",
      "5900\t0.21585828065872192\n",
      "6000\t0.21476252377033234\n",
      "6100\t0.21368056535720825\n",
      "6200\t0.21261078119277954\n",
      "6300\t0.2115541398525238\n",
      "6400\t0.21051040291786194\n",
      "6500\t0.20947743952274323\n",
      "6600\t0.20845693349838257\n",
      "6700\t0.2074476182460785\n",
      "6800\t0.20644983649253845\n",
      "6900\t0.20546267926692963\n",
      "7000\t0.20448604226112366\n",
      "7100\t0.20352011919021606\n",
      "7200\t0.2025638222694397\n",
      "7300\t0.2016179859638214\n",
      "7400\t0.20068132877349854\n",
      "7500\t0.1997545063495636\n",
      "7600\t0.1988372653722763\n",
      "7700\t0.19792869687080383\n",
      "7800\t0.19702917337417603\n",
      "7900\t0.19613878428936005\n",
      "8000\t0.19525688886642456\n",
      "8100\t0.19438374042510986\n",
      "8200\t0.19351840019226074\n",
      "8300\t0.1926616132259369\n",
      "8400\t0.191813126206398\n",
      "8500\t0.190972238779068\n",
      "8600\t0.1901392638683319\n",
      "8700\t0.18931356072425842\n",
      "8800\t0.18849585950374603\n",
      "8900\t0.18768525123596191\n",
      "9000\t0.18688204884529114\n",
      "9100\t0.18608620762825012\n",
      "9200\t0.1852971911430359\n",
      "9300\t0.18451520800590515\n",
      "9400\t0.18373988568782806\n",
      "9500\t0.18297159671783447\n",
      "9600\t0.18220998346805573\n",
      "9700\t0.18145456910133362\n",
      "9800\t0.1807054877281189\n",
      "9900\t0.17996299266815186\n"
     ]
    }
   ],
   "source": [
    "from tqdm.notebook import tqdm\n",
    "epoch = 10000\n",
    "learning_rate = 0.1\n",
    "\n",
    "def training(X, Y, epoch, learning_rate):\n",
    "    optimizer = tf.optimizers.SGD() # tutorial used keras.optimizer.SGD \n",
    "    for i in tqdm(range(epoch)):\n",
    "        grads = GD(X, Y)\n",
    "        optimizer.apply_gradients(zip(grads, variables))\n",
    "        if i % 100 == 0  :\n",
    "            print(f'{i}\\t{loss(hypothesis(X), Y)}')\n",
    "        \n",
    "training(x_data, y_data, epoch, learning_rate)"
   ]
  },
  {
   "cell_type": "code",
   "execution_count": 32,
   "id": "pacific-alabama",
   "metadata": {},
   "outputs": [
    {
     "name": "stdout",
     "output_type": "stream",
     "text": [
      "tf.Tensor(\n",
      "[[7.8551257e-01 2.1006010e-01 4.4272733e-03]\n",
      " [7.7455759e-01 2.2140647e-01 4.0359795e-03]\n",
      " [7.5654399e-01 2.3985958e-01 3.5964840e-03]\n",
      " [6.1532533e-01 3.8318926e-01 1.4853713e-03]\n",
      " [7.1815139e-01 2.8073332e-01 1.1152421e-03]\n",
      " [6.5409976e-01 3.4473494e-01 1.1653423e-03]\n",
      " [8.5112667e-01 1.4800638e-01 8.6704158e-04]\n",
      " [8.9212579e-01 1.0711933e-01 7.5482985e-04]], shape=(8, 3), dtype=float32)\n",
      "tf.Tensor([0 0 0 0 0 0 0 0], shape=(8,), dtype=int64)\n",
      "tf.Tensor(\n",
      "[[1.2771609e-01 5.3731424e-01 3.3496961e-01]\n",
      " [7.7455735e-01 2.2140670e-01 4.0359804e-03]\n",
      " [4.7919638e-03 9.8957258e-01 5.6354576e-03]\n",
      " [2.9917302e-02 9.7002989e-01 5.2849868e-05]\n",
      " [9.5445496e-01 4.5544878e-02 2.3866650e-07]\n",
      " [8.6858869e-01 1.3141119e-01 1.4152326e-07]\n",
      " [9.9625236e-01 3.7476579e-03 1.9310022e-09]\n",
      " [9.9927253e-01 7.2744628e-04 3.6020558e-11]], shape=(8, 3), dtype=float32)\n",
      "tf.Tensor([1 0 1 1 0 0 0 0], shape=(8,), dtype=int64)\n"
     ]
    }
   ],
   "source": [
    "sample_data = [[2,1,3,2]] # answer_label [[0,0,1]]\n",
    "sample_data = np.asarray(sample_data, dtype=np.float32)\n",
    "\n",
    "b = hypothesis(x_data)\n",
    "print(b)\n",
    "print(tf.argmax(b, 1))"
   ]
  }
 ],
 "metadata": {
  "kernelspec": {
   "display_name": "Python 3",
   "language": "python",
   "name": "python3"
  },
  "language_info": {
   "codemirror_mode": {
    "name": "ipython",
    "version": 3
   },
   "file_extension": ".py",
   "mimetype": "text/x-python",
   "name": "python",
   "nbconvert_exporter": "python",
   "pygments_lexer": "ipython3",
   "version": "3.8.6"
  }
 },
 "nbformat": 4,
 "nbformat_minor": 5
}
