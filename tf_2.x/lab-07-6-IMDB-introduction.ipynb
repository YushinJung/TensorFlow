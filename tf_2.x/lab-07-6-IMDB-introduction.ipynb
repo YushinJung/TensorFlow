{
 "cells": [
  {
   "cell_type": "markdown",
   "metadata": {},
   "source": [
    "# Lab 07-6-IMDB-introduction\n",
    "* https://www.tensorflow.org/tutorials/keras/basic_text_classification\n",
    "### 기본 Library 선언 및 TensorFlow 버전 확인"
   ]
  },
  {
   "cell_type": "code",
   "execution_count": 1,
   "metadata": {},
   "outputs": [
    {
     "name": "stdout",
     "output_type": "stream",
     "text": [
      "2.3.0\n"
     ]
    }
   ],
   "source": [
    "import numpy as np\n",
    "import tensorflow as tf\n",
    "from tensorflow import keras\n",
    "\n",
    "tf.random.set_seed(777)  # for reproducibility\n",
    "print(tf.__version__)"
   ]
  },
  {
   "cell_type": "markdown",
   "metadata": {},
   "source": [
    "### 강의에 설명할 Data입니다\n",
    "* Tensorflow 2.0 버전에 맞게 Keras를 활용한 IMDB 분류 모델 생성\n",
    "\n",
    "## 학습에 쓰이는 Data\n",
    "* 50,000 movie reviews from the Internet Movie Database. (10000개의 빈도수가 높은 단어를 학습시 Vector에 사용)"
   ]
  },
  {
   "cell_type": "code",
   "execution_count": 3,
   "metadata": {
    "scrolled": true
   },
   "outputs": [
    {
     "name": "stdout",
     "output_type": "stream",
     "text": [
      "Training entries: 25000, labels: 25000\n",
      "[1, 14, 22, 16, 43, 530, 973, 1622, 1385, 65, 458, 4468, 66, 3941, 4, 173, 36, 256, 5, 25, 100, 43, 838, 112, 50, 670, 2, 9, 35, 480, 284, 5, 150, 4, 172, 112, 167, 2, 336, 385, 39, 4, 172, 4536, 1111, 17, 546, 38, 13, 447, 4, 192, 50, 16, 6, 147, 2025, 19, 14, 22, 4, 1920, 4613, 469, 4, 22, 71, 87, 12, 16, 43, 530, 38, 76, 15, 13, 1247, 4, 22, 17, 515, 17, 12, 16, 626, 18, 2, 5, 62, 386, 12, 8, 316, 8, 106, 5, 4, 2223, 5244, 16, 480, 66, 3785, 33, 4, 130, 12, 16, 38, 619, 5, 25, 124, 51, 36, 135, 48, 25, 1415, 33, 6, 22, 12, 215, 28, 77, 52, 5, 14, 407, 16, 82, 2, 8, 4, 107, 117, 5952, 15, 256, 4, 2, 7, 3766, 5, 723, 36, 71, 43, 530, 476, 26, 400, 317, 46, 7, 4, 2, 1029, 13, 104, 88, 4, 381, 15, 297, 98, 32, 2071, 56, 26, 141, 6, 194, 7486, 18, 4, 226, 22, 21, 134, 476, 26, 480, 5, 144, 30, 5535, 18, 51, 36, 28, 224, 92, 25, 104, 4, 226, 65, 16, 38, 1334, 88, 12, 16, 283, 5, 16, 4472, 113, 103, 32, 15, 16, 5345, 19, 178, 32]\n"
     ]
    }
   ],
   "source": [
    "import warnings\n",
    "warnings.filterwarnings(\"ignore\")\n",
    "imdb = keras.datasets.imdb\n",
    "(train_data, train_labels), (test_data, test_labels) = imdb.load_data(num_words=10000)\n",
    "print(\"Training entries: {}, labels: {}\".format(len(train_data), len(train_labels)))\n",
    "print(train_data[0])"
   ]
  },
  {
   "cell_type": "markdown",
   "metadata": {},
   "source": [
    "*  IMDB Data를 Vector을 실재 값으로 변환하여 출력"
   ]
  },
  {
   "cell_type": "code",
   "execution_count": 6,
   "metadata": {},
   "outputs": [],
   "source": [
    "# A dictionary mapping words to an integer index\n",
    "word_index = imdb.get_word_index()"
   ]
  },
  {
   "cell_type": "code",
   "execution_count": 7,
   "metadata": {},
   "outputs": [],
   "source": [
    "# The first indices are reserved\n",
    "word_index = {k:(v+3) for k,v in word_index.items()}\n",
    "word_index[\"<PAD>\"] = 0\n",
    "word_index[\"<START>\"] = 1\n",
    "word_index[\"<UNK>\"] = 2  # unknown\n",
    "word_index[\"<UNUSED>\"] = 3\n",
    "\n",
    "reverse_word_index = dict([(value, key) for (key, value) in word_index.items()])\n",
    "\n",
    "def decode_review(text):\n",
    "    return ' '.join([reverse_word_index.get(i, '?') for i in text])"
   ]
  },
  {
   "cell_type": "code",
   "execution_count": 3,
   "metadata": {},
   "outputs": [
    {
     "data": {
      "text/plain": [
       "\"<START> worst mistake of my life br br i picked this movie up at target for 5 because i figured hey it's sandler i can get some cheap laughs i was wrong completely wrong mid way through the film all three of my friends were asleep and i was still suffering worst plot worst script worst movie i have ever seen i wanted to hit my head up against a wall for an hour then i'd stop and you know why because it felt damn good upon bashing my head in i stuck that damn movie in the <UNK> and watched it burn and that felt better than anything else i've ever done it took american psycho army of darkness and kill bill just to get over that crap i hate you sandler for actually going through with this and ruining a whole day of my life\""
      ]
     },
     "execution_count": 3,
     "metadata": {},
     "output_type": "execute_result"
    }
   ],
   "source": [
    "decode_review(train_data[4])"
   ]
  },
  {
   "cell_type": "code",
   "execution_count": 4,
   "metadata": {},
   "outputs": [
    {
     "name": "stdout",
     "output_type": "stream",
     "text": [
      "0\n"
     ]
    }
   ],
   "source": [
    "print(train_labels[4])"
   ]
  },
  {
   "cell_type": "markdown",
   "metadata": {},
   "source": [
    "###  Tensorflow Keras\n",
    "#### 위 Data를 기준으로 분류 모델을 만들도록 하겠습니다\n",
    "* 학습과 평가를 위해 동일길이인 256길이의 단어로 PAD값을 주어 맞춰줌 (뒤의 길이는 0값으로 맞춰줌)"
   ]
  },
  {
   "cell_type": "code",
   "execution_count": 10,
   "metadata": {},
   "outputs": [
    {
     "name": "stdout",
     "output_type": "stream",
     "text": [
      "256 256\n",
      "[   1   14   22   16   43  530  973 1622 1385   65  458 4468   66 3941\n",
      "    4  173   36  256    5   25  100   43  838  112   50  670    2    9\n",
      "   35  480  284    5  150    4  172  112  167    2  336  385   39    4\n",
      "  172 4536 1111   17  546   38   13  447    4  192   50   16    6  147\n",
      " 2025   19   14   22    4 1920 4613  469    4   22   71   87   12   16\n",
      "   43  530   38   76   15   13 1247    4   22   17  515   17   12   16\n",
      "  626   18    2    5   62  386   12    8  316    8  106    5    4 2223\n",
      " 5244   16  480   66 3785   33    4  130   12   16   38  619    5   25\n",
      "  124   51   36  135   48   25 1415   33    6   22   12  215   28   77\n",
      "   52    5   14  407   16   82    2    8    4  107  117 5952   15  256\n",
      "    4    2    7 3766    5  723   36   71   43  530  476   26  400  317\n",
      "   46    7    4    2 1029   13  104   88    4  381   15  297   98   32\n",
      " 2071   56   26  141    6  194 7486   18    4  226   22   21  134  476\n",
      "   26  480    5  144   30 5535   18   51   36   28  224   92   25  104\n",
      "    4  226   65   16   38 1334   88   12   16  283    5   16 4472  113\n",
      "  103   32   15   16 5345   19  178   32    0    0    0    0    0    0\n",
      "    0    0    0    0    0    0    0    0    0    0    0    0    0    0\n",
      "    0    0    0    0    0    0    0    0    0    0    0    0    0    0\n",
      "    0    0    0    0]\n"
     ]
    }
   ],
   "source": [
    "train_data = keras.preprocessing.sequence.pad_sequences(train_data,\n",
    "                                                        value=word_index[\"<PAD>\"],\n",
    "                                                        padding='post',\n",
    "                                                        maxlen=256)\n",
    "\n",
    "test_data = keras.preprocessing.sequence.pad_sequences(test_data,\n",
    "                                                       value=word_index[\"<PAD>\"],\n",
    "                                                       padding='post',\n",
    "                                                       maxlen=256)\n",
    "\n",
    "print(len(train_data[0]), len(test_data[0]))\n",
    "print(train_data[0])"
   ]
  },
  {
   "cell_type": "markdown",
   "metadata": {},
   "source": [
    "* Tensorflow keras API를 통해 모델에 대한 정의\n",
    "* 입력 Size와 학습시킬 Layer의 크기와 Activation Function 정의"
   ]
  },
  {
   "cell_type": "code",
   "execution_count": 11,
   "metadata": {},
   "outputs": [
    {
     "name": "stdout",
     "output_type": "stream",
     "text": [
      "Model: \"sequential\"\n",
      "_________________________________________________________________\n",
      "Layer (type)                 Output Shape              Param #   \n",
      "=================================================================\n",
      "embedding (Embedding)        (None, None, 16)          160000    \n",
      "_________________________________________________________________\n",
      "global_average_pooling1d (Gl (None, 16)                0         \n",
      "_________________________________________________________________\n",
      "dense (Dense)                (None, 16)                272       \n",
      "_________________________________________________________________\n",
      "dense_1 (Dense)              (None, 1)                 17        \n",
      "=================================================================\n",
      "Total params: 160,289\n",
      "Trainable params: 160,289\n",
      "Non-trainable params: 0\n",
      "_________________________________________________________________\n"
     ]
    }
   ],
   "source": [
    "# input shape is the vocabulary count used for the movie reviews (10,000 words)\n",
    "vocab_size = 10000\n",
    "\n",
    "model = keras.Sequential()\n",
    "model.add(keras.layers.Embedding(vocab_size, 16))\n",
    "model.add(keras.layers.GlobalAveragePooling1D())\n",
    "model.add(keras.layers.Dense(16, activation=tf.nn.relu))\n",
    "model.add(keras.layers.Dense(1, activation=tf.nn.sigmoid))\n",
    "\n",
    "model.summary()"
   ]
  },
  {
   "cell_type": "markdown",
   "metadata": {},
   "source": [
    "* Adam Optimizer과 Cross Entropy Loss 선언"
   ]
  },
  {
   "cell_type": "code",
   "execution_count": 7,
   "metadata": {},
   "outputs": [],
   "source": [
    "model.compile(optimizer='adam',\n",
    "              loss='binary_crossentropy',\n",
    "              metrics=['accuracy'])"
   ]
  },
  {
   "cell_type": "markdown",
   "metadata": {},
   "source": [
    "* 모델을 평가할 Test 데이타에 대한 정의(10000을 기준으로 학습과 평가 수행)"
   ]
  },
  {
   "cell_type": "code",
   "execution_count": 8,
   "metadata": {},
   "outputs": [
    {
     "name": "stdout",
     "output_type": "stream",
     "text": [
      "Train on 15000 samples, validate on 10000 samples\n",
      "Epoch 1/40\n",
      "15000/15000 [==============================] - 1s 46us/sample - loss: 0.6923 - accuracy: 0.5473 - val_loss: 0.6905 - val_accuracy: 0.6027\n",
      "Epoch 2/40\n",
      "15000/15000 [==============================] - 0s 27us/sample - loss: 0.6874 - accuracy: 0.7171 - val_loss: 0.6835 - val_accuracy: 0.7463\n",
      "Epoch 3/40\n",
      "15000/15000 [==============================] - 0s 27us/sample - loss: 0.6764 - accuracy: 0.7532 - val_loss: 0.6697 - val_accuracy: 0.7359\n",
      "Epoch 4/40\n",
      "15000/15000 [==============================] - 0s 29us/sample - loss: 0.6572 - accuracy: 0.7591 - val_loss: 0.6475 - val_accuracy: 0.7700\n",
      "Epoch 5/40\n",
      "15000/15000 [==============================] - 0s 27us/sample - loss: 0.6275 - accuracy: 0.7919 - val_loss: 0.6157 - val_accuracy: 0.7841\n",
      "Epoch 6/40\n",
      "15000/15000 [==============================] - 0s 27us/sample - loss: 0.5887 - accuracy: 0.8061 - val_loss: 0.5767 - val_accuracy: 0.7949\n",
      "Epoch 7/40\n",
      "15000/15000 [==============================] - 0s 27us/sample - loss: 0.5437 - accuracy: 0.8229 - val_loss: 0.5352 - val_accuracy: 0.8131\n",
      "Epoch 8/40\n",
      "15000/15000 [==============================] - 0s 28us/sample - loss: 0.4972 - accuracy: 0.8400 - val_loss: 0.4938 - val_accuracy: 0.8295\n",
      "Epoch 9/40\n",
      "15000/15000 [==============================] - 0s 27us/sample - loss: 0.4524 - accuracy: 0.8555 - val_loss: 0.4567 - val_accuracy: 0.8376\n",
      "Epoch 10/40\n",
      "15000/15000 [==============================] - 0s 27us/sample - loss: 0.4133 - accuracy: 0.8661 - val_loss: 0.4239 - val_accuracy: 0.8465\n",
      "Epoch 11/40\n",
      "15000/15000 [==============================] - 0s 27us/sample - loss: 0.3790 - accuracy: 0.8762 - val_loss: 0.3969 - val_accuracy: 0.8545\n",
      "Epoch 12/40\n",
      "15000/15000 [==============================] - 0s 27us/sample - loss: 0.3501 - accuracy: 0.8839 - val_loss: 0.3751 - val_accuracy: 0.8619\n",
      "Epoch 13/40\n",
      "15000/15000 [==============================] - 0s 27us/sample - loss: 0.3256 - accuracy: 0.8912 - val_loss: 0.3578 - val_accuracy: 0.8670\n",
      "Epoch 14/40\n",
      "15000/15000 [==============================] - 0s 27us/sample - loss: 0.3049 - accuracy: 0.8961 - val_loss: 0.3440 - val_accuracy: 0.8697\n",
      "Epoch 15/40\n",
      "15000/15000 [==============================] - 0s 27us/sample - loss: 0.2868 - accuracy: 0.9021 - val_loss: 0.3325 - val_accuracy: 0.8723\n",
      "Epoch 16/40\n",
      "15000/15000 [==============================] - 0s 28us/sample - loss: 0.2710 - accuracy: 0.9053 - val_loss: 0.3229 - val_accuracy: 0.8752\n",
      "Epoch 17/40\n",
      "15000/15000 [==============================] - 0s 27us/sample - loss: 0.2569 - accuracy: 0.9123 - val_loss: 0.3160 - val_accuracy: 0.8765\n",
      "Epoch 18/40\n",
      "15000/15000 [==============================] - 0s 27us/sample - loss: 0.2446 - accuracy: 0.9160 - val_loss: 0.3084 - val_accuracy: 0.8789\n",
      "Epoch 19/40\n",
      "15000/15000 [==============================] - 0s 28us/sample - loss: 0.2325 - accuracy: 0.9197 - val_loss: 0.3035 - val_accuracy: 0.8788\n",
      "Epoch 20/40\n",
      "15000/15000 [==============================] - 0s 27us/sample - loss: 0.2218 - accuracy: 0.9240 - val_loss: 0.2989 - val_accuracy: 0.8810\n",
      "Epoch 21/40\n",
      "15000/15000 [==============================] - 0s 27us/sample - loss: 0.2126 - accuracy: 0.9273 - val_loss: 0.2947 - val_accuracy: 0.8829\n",
      "Epoch 22/40\n",
      "15000/15000 [==============================] - 0s 27us/sample - loss: 0.2028 - accuracy: 0.9296 - val_loss: 0.2918 - val_accuracy: 0.8838\n",
      "Epoch 23/40\n",
      "15000/15000 [==============================] - 0s 28us/sample - loss: 0.1942 - accuracy: 0.9343 - val_loss: 0.2895 - val_accuracy: 0.8834\n",
      "Epoch 24/40\n",
      "15000/15000 [==============================] - 0s 28us/sample - loss: 0.1864 - accuracy: 0.9384 - val_loss: 0.2892 - val_accuracy: 0.8830\n",
      "Epoch 25/40\n",
      "15000/15000 [==============================] - 0s 27us/sample - loss: 0.1794 - accuracy: 0.9417 - val_loss: 0.2862 - val_accuracy: 0.8847\n",
      "Epoch 26/40\n",
      "15000/15000 [==============================] - 0s 27us/sample - loss: 0.1716 - accuracy: 0.9451 - val_loss: 0.2862 - val_accuracy: 0.8842\n",
      "Epoch 27/40\n",
      "15000/15000 [==============================] - 0s 28us/sample - loss: 0.1653 - accuracy: 0.9471 - val_loss: 0.2850 - val_accuracy: 0.8854\n",
      "Epoch 28/40\n",
      "15000/15000 [==============================] - 0s 28us/sample - loss: 0.1588 - accuracy: 0.9507 - val_loss: 0.2847 - val_accuracy: 0.8856\n",
      "Epoch 29/40\n",
      "15000/15000 [==============================] - 0s 27us/sample - loss: 0.1529 - accuracy: 0.9523 - val_loss: 0.2853 - val_accuracy: 0.8860\n",
      "Epoch 30/40\n",
      "15000/15000 [==============================] - 0s 27us/sample - loss: 0.1474 - accuracy: 0.9555 - val_loss: 0.2852 - val_accuracy: 0.8864\n",
      "Epoch 31/40\n",
      "15000/15000 [==============================] - 0s 27us/sample - loss: 0.1420 - accuracy: 0.9575 - val_loss: 0.2863 - val_accuracy: 0.8868\n",
      "Epoch 32/40\n",
      "15000/15000 [==============================] - 0s 27us/sample - loss: 0.1365 - accuracy: 0.9587 - val_loss: 0.2871 - val_accuracy: 0.8862\n",
      "Epoch 33/40\n",
      "15000/15000 [==============================] - 0s 27us/sample - loss: 0.1313 - accuracy: 0.9616 - val_loss: 0.2883 - val_accuracy: 0.8869\n",
      "Epoch 34/40\n",
      "15000/15000 [==============================] - 0s 26us/sample - loss: 0.1268 - accuracy: 0.9639 - val_loss: 0.2897 - val_accuracy: 0.8861\n",
      "Epoch 35/40\n",
      "15000/15000 [==============================] - 0s 27us/sample - loss: 0.1222 - accuracy: 0.9655 - val_loss: 0.2912 - val_accuracy: 0.8855\n",
      "Epoch 36/40\n",
      "15000/15000 [==============================] - 0s 27us/sample - loss: 0.1177 - accuracy: 0.9661 - val_loss: 0.2932 - val_accuracy: 0.8867\n",
      "Epoch 37/40\n",
      "15000/15000 [==============================] - 0s 27us/sample - loss: 0.1138 - accuracy: 0.9674 - val_loss: 0.2956 - val_accuracy: 0.8855\n",
      "Epoch 38/40\n",
      "15000/15000 [==============================] - 0s 27us/sample - loss: 0.1095 - accuracy: 0.9693 - val_loss: 0.2974 - val_accuracy: 0.8836\n",
      "Epoch 39/40\n",
      "15000/15000 [==============================] - 0s 27us/sample - loss: 0.1057 - accuracy: 0.9712 - val_loss: 0.3000 - val_accuracy: 0.8846\n",
      "Epoch 40/40\n",
      "15000/15000 [==============================] - 0s 28us/sample - loss: 0.1017 - accuracy: 0.9724 - val_loss: 0.3029 - val_accuracy: 0.8830\n"
     ]
    }
   ],
   "source": [
    "x_val = train_data[:10000]\n",
    "partial_x_train = train_data[10000:]\n",
    "\n",
    "y_val = train_labels[:10000]\n",
    "partial_y_train = train_labels[10000:]\n",
    "\n",
    "history = model.fit(partial_x_train,\n",
    "                    partial_y_train,\n",
    "                    epochs=40,\n",
    "                    batch_size=512,\n",
    "                    validation_data=(x_val, y_val),\n",
    "                    verbose=1)"
   ]
  },
  {
   "cell_type": "code",
   "execution_count": 9,
   "metadata": {},
   "outputs": [
    {
     "name": "stdout",
     "output_type": "stream",
     "text": [
      "25000/25000 [==============================] - 0s 17us/sample - loss: 0.3223 - accuracy: 0.8726\n",
      "[0.32234514392375946, 0.8726]\n"
     ]
    }
   ],
   "source": [
    "results = model.evaluate(test_data, test_labels)\n",
    "print(results)"
   ]
  },
  {
   "cell_type": "markdown",
   "metadata": {},
   "source": [
    "## For better performance, let's give early stop callback and decay learning rate\n",
    "## Also I want to save the learning rate and all of the data while training"
   ]
  },
  {
   "cell_type": "code",
   "execution_count": 56,
   "metadata": {},
   "outputs": [
    {
     "name": "stdout",
     "output_type": "stream",
     "text": [
      "Model: \"sequential_6\"\n",
      "_________________________________________________________________\n",
      "Layer (type)                 Output Shape              Param #   \n",
      "=================================================================\n",
      "embedding_6 (Embedding)      (None, None, 16)          160000    \n",
      "_________________________________________________________________\n",
      "global_average_pooling1d_6 ( (None, 16)                0         \n",
      "_________________________________________________________________\n",
      "dense_12 (Dense)             (None, 16)                272       \n",
      "_________________________________________________________________\n",
      "dense_13 (Dense)             (None, 1)                 17        \n",
      "=================================================================\n",
      "Total params: 160,289\n",
      "Trainable params: 160,289\n",
      "Non-trainable params: 0\n",
      "_________________________________________________________________\n"
     ]
    }
   ],
   "source": [
    "# input shape is the vocabulary count used for the movie reviews (10,000 words)\n",
    "vocab_size = 10000\n",
    "\n",
    "model = keras.Sequential()\n",
    "model.add(keras.layers.Embedding(vocab_size, 16))\n",
    "model.add(keras.layers.GlobalAveragePooling1D())\n",
    "model.add(keras.layers.Dense(16, activation=tf.nn.relu))\n",
    "model.add(keras.layers.Dense(1, activation=tf.nn.sigmoid))\n",
    "\n",
    "model.summary()\n"
   ]
  },
  {
   "cell_type": "code",
   "execution_count": 57,
   "metadata": {},
   "outputs": [],
   "source": [
    "# tensorboard call backs\n",
    "dir_log = './7-6_tensorboard'\n",
    "file_writer = tf.summary.create_file_writer(dir_log)\n",
    "file_writer.set_as_default()\n",
    "\n",
    "tensorboard_callback = keras.callbacks.TensorBoard(log_dir = dir_log)"
   ]
  },
  {
   "cell_type": "code",
   "execution_count": 59,
   "metadata": {},
   "outputs": [],
   "source": [
    "# learning rate call backs\n",
    "lr_callback = tf.keras.callbacks.ReduceLROnPlateau(\n",
    "    monitor = 'accuracy', factor = 0.7, patience = 10, verbose = 0 , mode = 'auto', \n",
    "    min_delta = 0.1, min_lr = 0)\n",
    "\n",
    "class LR_Writing_CallBack(tf.keras.callbacks.Callback):\n",
    "    def on_epoch_end(self, epoch, logs = None):\n",
    "        tf.summary.scalar('learning rate', data=self.model.optimizer._decayed_lr(tf.float32), step=epoch, description='learning rate')\n",
    "lr_writing_callback = LR_Writing_CallBack()"
   ]
  },
  {
   "cell_type": "code",
   "execution_count": 60,
   "metadata": {},
   "outputs": [
    {
     "name": "stdout",
     "output_type": "stream",
     "text": [
      "Epoch 1/50\n",
      " 2/30 [=>............................] - ETA: 26s - loss: 0.6934 - accuracy: 0.4980WARNING:tensorflow:Callbacks method `on_train_batch_end` is slow compared to the batch time (batch time: 0.0300s vs `on_train_batch_end` time: 1.8478s). Check your callbacks.\n",
      "30/30 [==============================] - 4s 117ms/step - loss: 0.6923 - accuracy: 0.5309 - val_loss: 0.6908 - val_accuracy: 0.7172\n",
      "Epoch 2/50\n",
      "30/30 [==============================] - 1s 37ms/step - loss: 0.6883 - accuracy: 0.7207 - val_loss: 0.6855 - val_accuracy: 0.6982\n",
      "Epoch 3/50\n",
      "30/30 [==============================] - 1s 39ms/step - loss: 0.6804 - accuracy: 0.7382 - val_loss: 0.6752 - val_accuracy: 0.7111\n",
      "Epoch 4/50\n",
      "30/30 [==============================] - 1s 38ms/step - loss: 0.6632 - accuracy: 0.7675 - val_loss: 0.6536 - val_accuracy: 0.7699\n",
      "Epoch 5/50\n",
      "30/30 [==============================] - 1s 43ms/step - loss: 0.6354 - accuracy: 0.7876 - val_loss: 0.6236 - val_accuracy: 0.7736\n",
      "Epoch 6/50\n",
      "30/30 [==============================] - 1s 34ms/step - loss: 0.5983 - accuracy: 0.8042 - val_loss: 0.5867 - val_accuracy: 0.7951\n",
      "Epoch 7/50\n",
      "30/30 [==============================] - 1s 40ms/step - loss: 0.5544 - accuracy: 0.8209 - val_loss: 0.5451 - val_accuracy: 0.8099\n",
      "Epoch 8/50\n",
      "30/30 [==============================] - 2s 50ms/step - loss: 0.5074 - accuracy: 0.8359 - val_loss: 0.5023 - val_accuracy: 0.8240\n",
      "Epoch 9/50\n",
      "30/30 [==============================] - 1s 39ms/step - loss: 0.4592 - accuracy: 0.8533 - val_loss: 0.4601 - val_accuracy: 0.8381\n",
      "Epoch 10/50\n",
      "30/30 [==============================] - 1s 41ms/step - loss: 0.4167 - accuracy: 0.8671 - val_loss: 0.4260 - val_accuracy: 0.8469\n",
      "Epoch 11/50\n",
      "30/30 [==============================] - 1s 38ms/step - loss: 0.3806 - accuracy: 0.8763 - val_loss: 0.3977 - val_accuracy: 0.8548\n",
      "Epoch 12/50\n",
      "30/30 [==============================] - 1s 39ms/step - loss: 0.3502 - accuracy: 0.8859 - val_loss: 0.3751 - val_accuracy: 0.8604\n",
      "Epoch 13/50\n",
      "30/30 [==============================] - 1s 33ms/step - loss: 0.3248 - accuracy: 0.8919 - val_loss: 0.3580 - val_accuracy: 0.8647\n",
      "Epoch 14/50\n",
      "30/30 [==============================] - 2s 52ms/step - loss: 0.3035 - accuracy: 0.8973 - val_loss: 0.3433 - val_accuracy: 0.8706\n",
      "Epoch 15/50\n",
      "30/30 [==============================] - 1s 44ms/step - loss: 0.2851 - accuracy: 0.9043 - val_loss: 0.3314 - val_accuracy: 0.8717\n",
      "Epoch 16/50\n",
      "30/30 [==============================] - 1s 36ms/step - loss: 0.2688 - accuracy: 0.9072 - val_loss: 0.3214 - val_accuracy: 0.8754\n",
      "Epoch 17/50\n",
      "30/30 [==============================] - 1s 33ms/step - loss: 0.2539 - accuracy: 0.9125 - val_loss: 0.3137 - val_accuracy: 0.8783\n",
      "Epoch 18/50\n",
      "30/30 [==============================] - 1s 42ms/step - loss: 0.2417 - accuracy: 0.9178 - val_loss: 0.3087 - val_accuracy: 0.8783\n",
      "Epoch 19/50\n",
      "30/30 [==============================] - 1s 38ms/step - loss: 0.2329 - accuracy: 0.9191 - val_loss: 0.3045 - val_accuracy: 0.8803\n",
      "Epoch 20/50\n",
      "30/30 [==============================] - 1s 44ms/step - loss: 0.2247 - accuracy: 0.9219 - val_loss: 0.3011 - val_accuracy: 0.8813\n",
      "Epoch 21/50\n",
      "30/30 [==============================] - 1s 42ms/step - loss: 0.2170 - accuracy: 0.9261 - val_loss: 0.2981 - val_accuracy: 0.8812\n",
      "Epoch 22/50\n",
      "30/30 [==============================] - 1s 40ms/step - loss: 0.2099 - accuracy: 0.9290 - val_loss: 0.2950 - val_accuracy: 0.8823\n",
      "Epoch 23/50\n",
      "30/30 [==============================] - 1s 36ms/step - loss: 0.2029 - accuracy: 0.9299 - val_loss: 0.2928 - val_accuracy: 0.8831\n",
      "Epoch 24/50\n",
      "30/30 [==============================] - 1s 41ms/step - loss: 0.1964 - accuracy: 0.9318 - val_loss: 0.2910 - val_accuracy: 0.8834\n",
      "Epoch 25/50\n",
      "30/30 [==============================] - 1s 36ms/step - loss: 0.1903 - accuracy: 0.9363 - val_loss: 0.2895 - val_accuracy: 0.8848\n",
      "Epoch 26/50\n",
      "30/30 [==============================] - 1s 43ms/step - loss: 0.1846 - accuracy: 0.9381 - val_loss: 0.2882 - val_accuracy: 0.8841\n",
      "Epoch 27/50\n",
      "30/30 [==============================] - 1s 45ms/step - loss: 0.1785 - accuracy: 0.9409 - val_loss: 0.2877 - val_accuracy: 0.8847\n",
      "Epoch 28/50\n",
      "30/30 [==============================] - 1s 44ms/step - loss: 0.1735 - accuracy: 0.9430 - val_loss: 0.2869 - val_accuracy: 0.8844\n",
      "Epoch 29/50\n",
      "30/30 [==============================] - 1s 36ms/step - loss: 0.1681 - accuracy: 0.9460 - val_loss: 0.2860 - val_accuracy: 0.8850\n",
      "Epoch 30/50\n",
      "30/30 [==============================] - 1s 35ms/step - loss: 0.1634 - accuracy: 0.9473 - val_loss: 0.2864 - val_accuracy: 0.8839\n",
      "Epoch 31/50\n",
      "30/30 [==============================] - 1s 35ms/step - loss: 0.1589 - accuracy: 0.9495 - val_loss: 0.2857 - val_accuracy: 0.8859\n",
      "Epoch 32/50\n",
      "30/30 [==============================] - 2s 51ms/step - loss: 0.1556 - accuracy: 0.9513 - val_loss: 0.2864 - val_accuracy: 0.8850\n",
      "Epoch 33/50\n",
      "30/30 [==============================] - 1s 35ms/step - loss: 0.1526 - accuracy: 0.9523 - val_loss: 0.2859 - val_accuracy: 0.8863\n",
      "Epoch 34/50\n",
      "30/30 [==============================] - 1s 47ms/step - loss: 0.1495 - accuracy: 0.9539 - val_loss: 0.2863 - val_accuracy: 0.8870\n",
      "Epoch 35/50\n",
      "30/30 [==============================] - 1s 38ms/step - loss: 0.1466 - accuracy: 0.9549 - val_loss: 0.2864 - val_accuracy: 0.8864\n",
      "Epoch 36/50\n",
      "30/30 [==============================] - 1s 38ms/step - loss: 0.1435 - accuracy: 0.9559 - val_loss: 0.2868 - val_accuracy: 0.8863\n",
      "Epoch 37/50\n",
      "30/30 [==============================] - 1s 39ms/step - loss: 0.1408 - accuracy: 0.9565 - val_loss: 0.2875 - val_accuracy: 0.8859\n",
      "Epoch 38/50\n",
      "30/30 [==============================] - 1s 43ms/step - loss: 0.1378 - accuracy: 0.9575 - val_loss: 0.2879 - val_accuracy: 0.8859\n",
      "Epoch 39/50\n",
      "30/30 [==============================] - 1s 38ms/step - loss: 0.1354 - accuracy: 0.9592 - val_loss: 0.2882 - val_accuracy: 0.8879\n",
      "Epoch 40/50\n",
      "30/30 [==============================] - 1s 43ms/step - loss: 0.1326 - accuracy: 0.9604 - val_loss: 0.2889 - val_accuracy: 0.8870\n",
      "Epoch 41/50\n",
      "30/30 [==============================] - 1s 39ms/step - loss: 0.1304 - accuracy: 0.9620 - val_loss: 0.2897 - val_accuracy: 0.8871\n",
      "Epoch 42/50\n",
      "30/30 [==============================] - 1s 37ms/step - loss: 0.1283 - accuracy: 0.9619 - val_loss: 0.2901 - val_accuracy: 0.8865\n",
      "Epoch 43/50\n",
      "30/30 [==============================] - 1s 45ms/step - loss: 0.1265 - accuracy: 0.9629 - val_loss: 0.2906 - val_accuracy: 0.8870\n",
      "Epoch 44/50\n",
      "30/30 [==============================] - 1s 43ms/step - loss: 0.1248 - accuracy: 0.9637 - val_loss: 0.2916 - val_accuracy: 0.8875\n",
      "Epoch 45/50\n",
      "30/30 [==============================] - 1s 42ms/step - loss: 0.1232 - accuracy: 0.9647 - val_loss: 0.2925 - val_accuracy: 0.8868\n",
      "Epoch 46/50\n",
      "30/30 [==============================] - 1s 41ms/step - loss: 0.1215 - accuracy: 0.9645 - val_loss: 0.2926 - val_accuracy: 0.8866\n",
      "Epoch 47/50\n",
      "30/30 [==============================] - 1s 46ms/step - loss: 0.1197 - accuracy: 0.9662 - val_loss: 0.2933 - val_accuracy: 0.8869\n",
      "Epoch 48/50\n",
      "30/30 [==============================] - 1s 46ms/step - loss: 0.1181 - accuracy: 0.9667 - val_loss: 0.2940 - val_accuracy: 0.8866\n",
      "Epoch 49/50\n",
      "30/30 [==============================] - 1s 38ms/step - loss: 0.1167 - accuracy: 0.9665 - val_loss: 0.2948 - val_accuracy: 0.8866\n",
      "Epoch 50/50\n",
      "30/30 [==============================] - 1s 41ms/step - loss: 0.1149 - accuracy: 0.9673 - val_loss: 0.2960 - val_accuracy: 0.8871\n"
     ]
    }
   ],
   "source": [
    "model.compile(optimizer='adam',\n",
    "              loss='binary_crossentropy',\n",
    "              metrics=['accuracy'])\n",
    "\n",
    "x_val = train_data[:10000]\n",
    "partial_x_train = train_data[10000:]\n",
    "\n",
    "y_val = train_labels[:10000]\n",
    "partial_y_train = train_labels[10000:]\n",
    "\n",
    "history = model.fit(partial_x_train,\n",
    "                    partial_y_train,\n",
    "                    epochs=50,\n",
    "                    batch_size=512,\n",
    "                    validation_data=(x_val, y_val),\n",
    "                    callbacks = [lr_callback, tensorboard_callback, lr_writing_callback],\n",
    "                    verbose=1)#to do Call backs"
   ]
  }
 ],
 "metadata": {
  "kernelspec": {
   "display_name": "Python 3",
   "language": "python",
   "name": "python3"
  },
  "language_info": {
   "codemirror_mode": {
    "name": "ipython",
    "version": 3
   },
   "file_extension": ".py",
   "mimetype": "text/x-python",
   "name": "python",
   "nbconvert_exporter": "python",
   "pygments_lexer": "ipython3",
   "version": "3.8.6"
  }
 },
 "nbformat": 4,
 "nbformat_minor": 4
}
