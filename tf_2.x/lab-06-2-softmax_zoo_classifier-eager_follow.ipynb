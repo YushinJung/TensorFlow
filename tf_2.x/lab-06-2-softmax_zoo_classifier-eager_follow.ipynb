{
 "cells": [
  {
   "cell_type": "markdown",
   "id": "disciplinary-sculpture",
   "metadata": {},
   "source": [
    "# Lab-06-02 ZOO"
   ]
  },
  {
   "cell_type": "code",
   "execution_count": 1,
   "id": "orange-synthetic",
   "metadata": {},
   "outputs": [
    {
     "name": "stdout",
     "output_type": "stream",
     "text": [
      "2.3.0\n"
     ]
    }
   ],
   "source": [
    "import tensorflow as tf\n",
    "import numpy as np\n",
    "import pandas as pd\n",
    "\n",
    "from tqdm.notebook import tqdm\n",
    "import matplotlib.pyplot as plt\n",
    "%matplotlib inline\n",
    "import seaborn as sns\n",
    "\n",
    "print(tf.__version__)\n",
    "\n",
    "tf.random.set_seed(777)  # for reproducibility"
   ]
  },
  {
   "cell_type": "markdown",
   "id": "intensive-yacht",
   "metadata": {},
   "source": [
    "## Data Load"
   ]
  },
  {
   "cell_type": "code",
   "execution_count": 15,
   "id": "innovative-assets",
   "metadata": {},
   "outputs": [],
   "source": [
    "df = pd.read_csv('data-04-zoo.csv')\n",
    "df = df[18:]\n",
    "list_column = [i for i in range(16)] + ['label']\n",
    "df.columns = list_column\n",
    "df = df.reset_index()\n",
    "\n",
    "col_trainX = [i for i in range(16)]\n",
    "col_trainY = ['label']\n",
    "\n",
    "df_trainX = df[col_trainX].astype(np.float32)\n",
    "df_trainY = df[col_trainY]\n",
    "df_trainY = df_trainY.astype(np.int64)"
   ]
  },
  {
   "cell_type": "markdown",
   "id": "natural-guinea",
   "metadata": {},
   "source": [
    "Make trainY one-hot encode format"
   ]
  },
  {
   "cell_type": "code",
   "execution_count": 17,
   "id": "buried-newspaper",
   "metadata": {},
   "outputs": [
    {
     "name": "stdout",
     "output_type": "stream",
     "text": [
      "X-shape (101, 16)\tY-shape (101, 1, 7)\n",
      "X-shape (101, 16)\tY-shape (101, 7)\n"
     ]
    }
   ],
   "source": [
    "nb_classes = 7\n",
    "Y_one_hot = tf.one_hot(df_trainY, nb_classes)\n",
    "print(f'X-shape {df_trainX.shape}\\tY-shape {Y_one_hot.shape}')\n",
    "Y_one_hot = tf.reshape(Y_one_hot, (101, 7))\n",
    "print(f'X-shape {df_trainX.shape}\\tY-shape {Y_one_hot.shape}')"
   ]
  },
  {
   "cell_type": "markdown",
   "id": "daily-macedonia",
   "metadata": {},
   "source": [
    "Make to dataset"
   ]
  },
  {
   "cell_type": "markdown",
   "id": "cordless-malaysia",
   "metadata": {},
   "source": [
    "## Hypothesis"
   ]
  },
  {
   "cell_type": "code",
   "execution_count": 9,
   "id": "blank-maryland",
   "metadata": {},
   "outputs": [],
   "source": [
    "W = tf.Variable(tf.random.uniform((16, 7), -10, 10), name = 'weight')\n",
    "b = tf.Variable(tf.random.uniform((1,7), -10, 10), name = 'bias')\n",
    "variables  = [W, b]\n",
    "def linearRegression_fn(X):\n",
    "    return tf.matmul(X, W) +  b\n",
    "\n",
    "def hypothesis_fn(X):\n",
    "    return tf.nn.softmax(linearRegression_fn(X))\n",
    "\n",
    "# hypothesis(df_trainX)"
   ]
  },
  {
   "cell_type": "markdown",
   "id": "oriented-basic",
   "metadata": {},
   "source": [
    "## Loss"
   ]
  },
  {
   "cell_type": "code",
   "execution_count": 19,
   "id": "double-nancy",
   "metadata": {},
   "outputs": [
    {
     "data": {
      "text/plain": [
       "<tf.Tensor: shape=(), dtype=float32, numpy=42.86525>"
      ]
     },
     "execution_count": 19,
     "metadata": {},
     "output_type": "execute_result"
    }
   ],
   "source": [
    "def loss_fn(X, Y):\n",
    "    return tf.reduce_mean(tf.keras.losses.categorical_crossentropy(Y, linearRegression_fn(X), from_logits=True))\n",
    "loss_fn(df_trainX, Y_one_hot)"
   ]
  },
  {
   "cell_type": "markdown",
   "id": "initial-prague",
   "metadata": {},
   "source": [
    "## Grad"
   ]
  },
  {
   "cell_type": "code",
   "execution_count": 20,
   "id": "northern-paragraph",
   "metadata": {},
   "outputs": [],
   "source": [
    "def grad_fn(X, Y):\n",
    "    with tf.GradientTape() as tape:\n",
    "        loss = loss_fn(X, Y)\n",
    "        grads = tape.gradient(loss, variables)\n",
    "    return grads\n",
    "\n",
    "# grad_fn(df_trainX, Y_one_hot)"
   ]
  },
  {
   "cell_type": "markdown",
   "id": "perceived-sunset",
   "metadata": {},
   "source": [
    "## Train"
   ]
  },
  {
   "cell_type": "code",
   "execution_count": 26,
   "id": "muslim-thumb",
   "metadata": {},
   "outputs": [
    {
     "data": {
      "application/vnd.jupyter.widget-view+json": {
       "model_id": "5dc7f16b93284205988cd981e1c4a67e",
       "version_major": 2,
       "version_minor": 0
      },
      "text/plain": [
       "  0%|          | 0/1000 [00:00<?, ?it/s]"
      ]
     },
     "metadata": {},
     "output_type": "display_data"
    },
    {
     "name": "stdout",
     "output_type": "stream",
     "text": [
      "step - 0\t loss_mean - 0.26602903008461 \n",
      "step - 100\t loss_mean - 0.2257828265428543 \n",
      "step - 200\t loss_mean - 0.1923115998506546 \n",
      "step - 300\t loss_mean - 0.16403643786907196 \n",
      "step - 400\t loss_mean - 0.14025065302848816 \n",
      "step - 500\t loss_mean - 0.12081892788410187 \n",
      "step - 600\t loss_mean - 0.10534373670816422 \n",
      "step - 700\t loss_mean - 0.09302973002195358 \n",
      "step - 800\t loss_mean - 0.08308032900094986 \n",
      "step - 900\t loss_mean - 0.07489807903766632 \n"
     ]
    }
   ],
   "source": [
    "learning_rate = 0.2\n",
    "verbose = 100\n",
    "epoch = 1000\n",
    "def train_fn(X, Y, learning_rate = learning_rate, epoch = epoch, verbose = verbose):\n",
    "    optimizer = tf.keras.optimizers.SGD(learning_rate)\n",
    "    for step in tqdm(range(epoch)):\n",
    "        grads = grad_fn(X, Y)\n",
    "        optimizer.apply_gradients(zip(grads, variables))\n",
    "        if step % verbose == 0 :\n",
    "            print(f'step - {step}\\t loss_mean - {loss_fn(X, Y).numpy()} ')\n",
    "train_fn(df_trainX, Y_one_hot)"
   ]
  },
  {
   "cell_type": "markdown",
   "id": "reliable-attachment",
   "metadata": {},
   "source": [
    "## Check"
   ]
  },
  {
   "cell_type": "code",
   "execution_count": 32,
   "id": "saving-status",
   "metadata": {},
   "outputs": [
    {
     "data": {
      "text/plain": [
       "<tf.Tensor: shape=(), dtype=float32, numpy=0.980198>"
      ]
     },
     "execution_count": 32,
     "metadata": {},
     "output_type": "execute_result"
    }
   ],
   "source": [
    "def accuracy_fn(X, Y):\n",
    "    prediction = hypothesis_fn(X)\n",
    "    prediction = tf.argmax(prediction, 1)\n",
    "    correct_prediction = tf.equal(prediction, tf.argmax(Y, 1))\n",
    "    accuracy = tf.reduce_mean(tf.cast(correct_prediction, tf.float32))\n",
    "    return accuracy\n",
    "accuracy_fn(df_trainX, Y_one_hot)\n",
    "    "
   ]
  },
  {
   "cell_type": "markdown",
   "id": "deadly-contractor",
   "metadata": {},
   "source": [
    "## make as a class"
   ]
  },
  {
   "cell_type": "code",
   "execution_count": 36,
   "id": "lesser-lending",
   "metadata": {},
   "outputs": [
    {
     "name": "stdout",
     "output_type": "stream",
     "text": [
      "Loss at epoch 1: 9.198975\n",
      "Loss at epoch 500: 0.186254\n",
      "Loss at epoch 1000: 0.101434\n",
      "Loss at epoch 1500: 0.070091\n",
      "Loss at epoch 2000: 0.053641\n"
     ]
    }
   ],
   "source": [
    "class softmax_classifer(tf.keras.Model):\n",
    "    def __init__(self, nb_classes):\n",
    "        super(softmax_classifer, self).__init__()\n",
    "        self.W = tf.Variable(tf.random.normal((16, nb_classes)), name='weight')\n",
    "        self.b = tf.Variable(tf.random.normal((nb_classes,)), name='bias')\n",
    "        \n",
    "    def softmax_regression(self, X):\n",
    "        return tf.nn.softmax(tf.matmul(X, self.W) + self.b)\n",
    "    \n",
    "    def cost_fn(self, X, Y):\n",
    "        logits = self.softmax_regression(X)\n",
    "        cost = tf.reduce_mean(-tf.reduce_sum(Y * tf.math.log(logits), axis=1))        \n",
    "        return cost\n",
    "    \n",
    "    def grad_fn(self, X, Y):\n",
    "        with tf.GradientTape() as tape:\n",
    "            cost = self.cost_fn(X, Y)\n",
    "            grads = tape.gradient(cost, self.variables)            \n",
    "            return grads\n",
    "    \n",
    "    def fit(self, X, Y, epochs=2000, verbose=500):\n",
    "        optimizer =  tf.keras.optimizers.SGD(learning_rate=0.1)\n",
    "\n",
    "        for i in range(epochs):\n",
    "            grads = self.grad_fn(X, Y)\n",
    "            optimizer.apply_gradients(zip(grads, self.variables))\n",
    "            if (i==0) | ((i+1)%verbose==0):\n",
    "                print('Loss at epoch %d: %f' %(i+1, self.cost_fn(X, Y).numpy()))\n",
    "            \n",
    "model = softmax_classifer(nb_classes)\n",
    "model.fit(df_trainX, Y_one_hot)\n",
    "# model.predict(df_trainX[1])"
   ]
  }
 ],
 "metadata": {
  "kernelspec": {
   "display_name": "Python 3",
   "language": "python",
   "name": "python3"
  },
  "language_info": {
   "codemirror_mode": {
    "name": "ipython",
    "version": 3
   },
   "file_extension": ".py",
   "mimetype": "text/x-python",
   "name": "python",
   "nbconvert_exporter": "python",
   "pygments_lexer": "ipython3",
   "version": "3.8.6"
  }
 },
 "nbformat": 4,
 "nbformat_minor": 5
}
