{
 "cells": [
  {
   "cell_type": "markdown",
   "metadata": {
    "slideshow": {
     "slide_type": "slide"
    }
   },
   "source": [
    "# 04 - Liner Regression and Minimizing Cost\n",
    "\n",
    "<img width=\"200\" src=\"https://i.imgur.com/hbPVe1T.png\">"
   ]
  },
  {
   "cell_type": "code",
   "execution_count": 1,
   "metadata": {
    "slideshow": {
     "slide_type": "slide"
    }
   },
   "outputs": [],
   "source": [
    "import tensorflow as tf\n",
    "import numpy as np"
   ]
  },
  {
   "cell_type": "markdown",
   "metadata": {
    "slideshow": {
     "slide_type": "slide"
    }
   },
   "source": [
    "## Hypothesis \n",
    "\n",
    "$$ H(x) = Wx + b $$\n",
    "\n",
    "## cost function\n",
    "\n",
    "$$ cost(W)=\\frac { 1 }{ m } \\sum _{ i=1}^{m}{ { (W{ x }^{ i }-y^{ i } })^{ 2 } }  $$"
   ]
  },
  {
   "cell_type": "code",
   "execution_count": 2,
   "metadata": {
    "slideshow": {
     "slide_type": "-"
    }
   },
   "outputs": [
    {
     "name": "stdout",
     "output_type": "stream",
     "text": [
      "4.666666666666667\n",
      "0.0\n",
      "4.666666666666667\n",
      "18.666666666666668\n"
     ]
    }
   ],
   "source": [
    "# cost 계산\n",
    "\n",
    "W = 0\n",
    "print (((W*1 - 1)**2 + (W*2 - 2)**2 + (W*3 - 3)** 2) / 3)\n",
    "\n",
    "W = 1\n",
    "print (((W*1 - 1)**2 + (W*2 - 2)**2 + (W*3 - 3)** 2) / 3)\n",
    "\n",
    "W = 2\n",
    "print (((W*1 - 1)**2 + (W*2 - 2)**2 + (W*3 - 3)** 2) / 3)\n",
    "\n",
    "W = 3\n",
    "print (((W*1 - 1)**2 + (W*2 - 2)**2 + (W*3 - 3)** 2) / 3)"
   ]
  },
  {
   "cell_type": "code",
   "execution_count": 3,
   "metadata": {
    "slideshow": {
     "slide_type": "slide"
    }
   },
   "outputs": [],
   "source": [
    "data = [\n",
    "    (1, 1),\n",
    "    (2, 2),\n",
    "    (3, 3),\n",
    "]\n",
    "\n",
    "def cost_func(w, data):\n",
    "    s = 0\n",
    "    m = len(data)\n",
    "    for v in data:\n",
    "        s += (w*v[0] - v[1]) ** 2\n",
    "    return s/m"
   ]
  },
  {
   "cell_type": "code",
   "execution_count": 4,
   "metadata": {
    "slideshow": {
     "slide_type": "-"
    }
   },
   "outputs": [
    {
     "name": "stdout",
     "output_type": "stream",
     "text": [
      "4.666666666666667\n",
      "0.0\n",
      "4.666666666666667\n",
      "18.666666666666668\n"
     ]
    }
   ],
   "source": [
    "print( cost_func(0, data) )\n",
    "print( cost_func(1, data) )\n",
    "print( cost_func(2, data) )\n",
    "print( cost_func(3, data) )"
   ]
  },
  {
   "cell_type": "code",
   "execution_count": 5,
   "metadata": {
    "slideshow": {
     "slide_type": "slide"
    }
   },
   "outputs": [
    {
     "data": {
      "image/png": "[encoded data removed]",
      "text/plain": [
       "<Figure size 432x288 with 1 Axes>"
      ]
     },
     "metadata": {
      "needs_background": "light"
     },
     "output_type": "display_data"
    }
   ],
   "source": [
    "%matplotlib inline\n",
    "import matplotlib.pyplot as plt\n",
    "\n",
    "w_vals = range(-3, 4)\n",
    "cost_vals = [cost_func(w, data) for w in w_vals]\n",
    "\n",
    "plt.plot(w_vals, cost_vals)\n",
    "plt.ylabel('cost')\n",
    "plt.ylabel('W')\n",
    "plt.grid()"
   ]
  },
  {
   "cell_type": "markdown",
   "metadata": {
    "slideshow": {
     "slide_type": "slide"
    }
   },
   "source": [
    "# Gradient descent algorithm\n",
    "* cost를 최소화 하는 대표적인 알고리즘\n",
    "* 다수의 변수에도 적용이 가능\n",
    "\n",
    "$$ W\\leftarrow W-\\alpha \\frac { 1 }{ m } \\sum _{ i=1 }^{ m }{ (Wx^{ i }-y^{ i })x^{ i } }  $$\n",
    "\n",
    "* liner regression 의 핵심 알고리즘\n",
    "* cost function을 설계할때 반드시 convex function 이어야 한다"
   ]
  },
  {
   "cell_type": "code",
   "execution_count": 55,
   "metadata": {
    "slideshow": {
     "slide_type": "slide"
    }
   },
   "outputs": [
    {
     "name": "stdout",
     "output_type": "stream",
     "text": [
      "W - [0.8078761]\n",
      "b - [0.45369196]\n"
     ]
    }
   ],
   "source": [
    "import tensorflow as tf\n",
    "\n",
    "x_data = [1, 2, 3]\n",
    "y_data = [1, 2, 3]\n",
    "\n",
    "W = tf.Variable(tf.random.uniform([1], -1.0, 1.0), name='W')\n",
    "b = tf.Variable(tf.random.uniform([1], -1.0, 1.0), name='b')\n",
    "\n",
    "# X = tf.placeholder(tf.float32)\n",
    "X = tf.Variable(tf.zeros(shape=(1)), name=\"X\")\n",
    "# Y = tf.placeholder(tf.float32)\n",
    "Y = tf.Variable(tf.zeros(shape=(1)), name=\"Y\")\n",
    "@tf.function\n",
    "def model(x):\n",
    "    return W * x + b\n",
    "cost = lambda: tf.reduce_mean(tf.square(model(x_data) - y_data))\n",
    "\n",
    "a = tf.Variable(0.1) \n",
    "optimizer = tf.keras.optimizers.SGD(a)\n",
    "optimizer.minimize(cost, var_list = [W, b]) \n",
    "# cost needs to be function, and be aware of using variable not tensor\n",
    "# while using optimizer\n",
    "# this updates w, b depending on the cost\n",
    "print(f'W - {W.numpy()}\\nb - {b.numpy()}')"
   ]
  },
  {
   "cell_type": "code",
   "execution_count": 56,
   "metadata": {
    "slideshow": {
     "slide_type": "slide"
    }
   },
   "outputs": [
    {
     "name": "stdout",
     "output_type": "stream",
     "text": [
      "0\tW-[0.80571496]\tb-[0.43980312]\n",
      "100\tW-[0.983012]\tb-[0.03861773]\n",
      "200\tW-[0.99850935]\tb-[0.00338865]\n",
      "300\tW-[0.99986917]\tb-[0.0002973]\n",
      "400\tW-[0.99998856]\tb-[2.6073356e-05]\n",
      "500\tW-[0.999999]\tb-[2.3268658e-06]\n",
      "600\tW-[0.9999999]\tb-[2.7646695e-07]\n",
      "700\tW-[1.]\tb-[5.394285e-08]\n",
      "800\tW-[1.]\tb-[5.394285e-08]\n",
      "900\tW-[1.]\tb-[5.394285e-08]\n"
     ]
    }
   ],
   "source": [
    "# tf v1 은 initialize등을 수행했어야 함. \n",
    "# sess = tf.Session()\n",
    "# sess.run(tf.initializers.global_variables()) \n",
    "for step in range(1000):\n",
    "    optimizer.minimize(cost, [W, b])\n",
    "    if step % 100 == 0:\n",
    "        print(f'{step}\\tW-{W.numpy()}\\tb-{b.numpy()}')"
   ]
  },
  {
   "cell_type": "code",
   "execution_count": 57,
   "metadata": {
    "slideshow": {
     "slide_type": "slide"
    }
   },
   "outputs": [
    {
     "name": "stdout",
     "output_type": "stream",
     "text": [
      "tf.Tensor([5.], shape=(1,), dtype=float32)\n",
      "tf.Tensor([2.5], shape=(1,), dtype=float32)\n"
     ]
    }
   ],
   "source": [
    "print(model(5))\n",
    "print(model(2.5))"
   ]
  }
 ],
 "metadata": {
  "celltoolbar": "Slideshow",
  "kernelspec": {
   "display_name": "Python 3",
   "language": "python",
   "name": "python3"
  },
  "language_info": {
   "codemirror_mode": {
    "name": "ipython",
    "version": 3
   },
   "file_extension": ".py",
   "mimetype": "text/x-python",
   "name": "python",
   "nbconvert_exporter": "python",
   "pygments_lexer": "ipython3",
   "version": "3.8.6"
  }
 },
 "nbformat": 4,
 "nbformat_minor": 4
}
